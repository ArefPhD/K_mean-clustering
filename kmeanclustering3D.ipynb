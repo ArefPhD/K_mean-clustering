{
  "nbformat": 4,
  "nbformat_minor": 0,
  "metadata": {
    "colab": {
      "name": "Untitled148.ipynb",
      "private_outputs": true,
      "provenance": []
    },
    "kernelspec": {
      "name": "python3",
      "display_name": "Python 3"
    },
    "language_info": {
      "name": "python"
    }
  },
  "cells": [
    {
      "cell_type": "code",
      "execution_count": null,
      "metadata": {
        "id": "UuISWLZnLmlS"
      },
      "outputs": [],
      "source": [
        "import matplotlib.pyplot as plt\n",
        "import numpy as np\n",
        "\n",
        "# Fixing random state for reproducibility\n",
        "np.random.seed(19680801)\n",
        "\n",
        "\n",
        "def randrange(n, vmin, vmax):\n",
        "    \"\"\"\n",
        "    Helper function to make an array of random numbers having shape (n, )\n",
        "    with each number distributed Uniform(vmin, vmax).\n",
        "    \"\"\"\n",
        "    return (vmax - vmin)*np.random.rand(n) + vmin\n",
        "\n",
        "fig = plt.figure()\n",
        "ax = fig.add_subplot(projection='3d')\n",
        "\n",
        "n = 500\n",
        "\n",
        "# For each set of style and range settings, plot n random points in the box\n",
        "# defined by x in [23, 32], y in [0, 100], z in [zlow, zhigh].\n",
        "for m, zlow, zhigh in [('o', -50, -25), ('^', -30, -5)]:\n",
        "    xs = randrange(n, 23, 32)\n",
        "    ys = randrange(n, 0, 100)\n",
        "    zs = randrange(n, zlow, zhigh)\n",
        "    ax.scatter(xs, ys, zs, marker=m)\n",
        "\n",
        "ax.set_xlabel('X Label')\n",
        "ax.set_ylabel('Y Label')\n",
        "ax.set_zlabel('Z Label')\n",
        "\n",
        "plt.show()"
      ]
    },
    {
      "cell_type": "code",
      "source": [
        "X=np.array([xs,ys,zs])\n",
        "X=X.T"
      ],
      "metadata": {
        "id": "n1gTrbt8MKfp"
      },
      "execution_count": null,
      "outputs": []
    },
    {
      "cell_type": "code",
      "source": [
        "X.shape"
      ],
      "metadata": {
        "id": "oX6aSwAxMQdy"
      },
      "execution_count": null,
      "outputs": []
    },
    {
      "cell_type": "code",
      "source": [
        "from sklearn.cluster import KMeans\n",
        "import numpy as np\n",
        "kmeans = KMeans(n_clusters=5, random_state=0).fit(X)\n",
        "kmeans.labels_\n",
        "\n",
        "\n",
        "kmeans.cluster_centers_.shape"
      ],
      "metadata": {
        "id": "X99tWOVTL_tV"
      },
      "execution_count": null,
      "outputs": []
    },
    {
      "cell_type": "code",
      "source": [
        "import matplotlib.pyplot as plt\n",
        "import numpy as np\n",
        "\n",
        "\n",
        "fig = plt.figure()\n",
        "ax = fig.add_subplot(projection='3d')\n",
        "ax.scatter(xs, ys, zs, s=1, marker='o')\n",
        "\n",
        "ax.scatter(kmeans.cluster_centers_[0:len(X),0],kmeans.cluster_centers_[0:len(X),1],kmeans.cluster_centers_[0:len(X),2],s=10,marker='o')\n",
        "ax.view_init(-140, 60)\n",
        "\n",
        "plt.show()"
      ],
      "metadata": {
        "id": "cAavZatJMdna"
      },
      "execution_count": null,
      "outputs": []
    },
    {
      "cell_type": "code",
      "source": [
        "from mpl_toolkits.mplot3d import Axes3D\n",
        "ax = fig.add_subplot(projection='3d')\n",
        "ax.scatter(xs, ys, zs, marker='o')\n",
        "ax.scatter(kmeans.cluster_centers_[0:len(X),0],kmeans.cluster_centers_[0:len(X),1],kmeans.cluster_centers_[0:len(X),2])\n",
        "for ii in range(0,360,1):\n",
        "    ax.view_init(elev=10., azim=ii)\n",
        "    plt.savefig(\"movie%d.png\" % ii)"
      ],
      "metadata": {
        "id": "q31XW6uTNEjK"
      },
      "execution_count": null,
      "outputs": []
    },
    {
      "cell_type": "code",
      "source": [
        "from google.colab import files\n",
        "\n",
        "uploaded = files.download('movie1d.png')"
      ],
      "metadata": {
        "id": "RrhXGmFjNzYq"
      },
      "execution_count": null,
      "outputs": []
    }
  ]
}