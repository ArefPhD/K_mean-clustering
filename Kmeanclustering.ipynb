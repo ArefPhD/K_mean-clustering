{
  "nbformat": 4,
  "nbformat_minor": 0,
  "metadata": {
    "colab": {
      "name": "Untitled147.ipynb",
      "private_outputs": true,
      "provenance": [],
      "collapsed_sections": []
    },
    "kernelspec": {
      "name": "python3",
      "display_name": "Python 3"
    },
    "language_info": {
      "name": "python"
    }
  },
  "cells": [
    {
      "cell_type": "code",
      "source": [
        "import matplotlib.pyplot as plt\n",
        "mu, sigma = 0, 0.1 # mean and standard deviation\n",
        "s = np.random.normal(mu, sigma, 500)\n",
        "s1= np.random.normal(mu, sigma, 500)\n",
        "s2 = np.random.normal(2, 0.5, 500)\n",
        "s3= np.random.normal(2, 0.5, 500)\n",
        "plt.scatter(s,s1,color='blue')\n",
        "plt.scatter(s2,s3,color='red')\n",
        "\n",
        "plt.show()"
      ],
      "metadata": {
        "id": "UOUxq5HvXWYG"
      },
      "execution_count": null,
      "outputs": []
    },
    {
      "cell_type": "code",
      "source": [
        "X1=np.array([s2,s3])\n",
        "X1=X1.T\n",
        "X=np.array([s,s1])\n",
        "X=X.T\n",
        "S=np.row_stack((X,X1))"
      ],
      "metadata": {
        "id": "eh59cpIFaEmG"
      },
      "execution_count": null,
      "outputs": []
    },
    {
      "cell_type": "code",
      "execution_count": null,
      "metadata": {
        "id": "-8UleSnXWgWv"
      },
      "outputs": [],
      "source": [
        "from sklearn.cluster import KMeans\n",
        "import numpy as np\n",
        "X = S\n",
        "kmeans = KMeans(n_clusters=2, random_state=0).fit(X)\n",
        "kmeans.labels_\n",
        "\n",
        "\n",
        "kmeans.cluster_centers_\n"
      ]
    },
    {
      "cell_type": "code",
      "source": [
        "x=X[0:len(X),0]\n",
        "y=X[0:len(X),1]"
      ],
      "metadata": {
        "id": "M6ZCrRllWk0M"
      },
      "execution_count": null,
      "outputs": []
    },
    {
      "cell_type": "code",
      "source": [
        "import matplotlib.pyplot as plt\n",
        "import numpy as np\n",
        "\n",
        "\n",
        "plt.scatter(x,y)\n",
        "plt.scatter(kmeans.cluster_centers_[0:len(X),0],kmeans.cluster_centers_[0:len(X),1])\n",
        "plt.show()"
      ],
      "metadata": {
        "id": "TmGScOcLW9B3"
      },
      "execution_count": null,
      "outputs": []
    }
  ]
}