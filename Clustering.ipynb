{
  "nbformat": 4,
  "nbformat_minor": 0,
  "metadata": {
    "colab": {
      "name": "Untitled148.ipynb",
      "private_outputs": true,
      "provenance": []
    },
    "kernelspec": {
      "name": "python3",
      "display_name": "Python 3"
    },
    "language_info": {
      "name": "python"
    }
  },
  "cells": [
    {
      "cell_type": "code",
      "execution_count": null,
      "metadata": {
        "id": "UuISWLZnLmlS"
      },
      "outputs": [],
      "source": [
        "import matplotlib.pyplot as plt\n",
        "import numpy as np\n",
        "\n",
        "# Fixing random state for reproducibility\n",
        "np.random.seed(19680801)\n",
        "\n",
        "\n",
        "def randrange(n, vmin, vmax):\n",
        "    \"\"\"\n",
        "    Helper function to make an array of random numbers having shape (n, )\n",
        "    with each number distributed Uniform(vmin, vmax).\n",
        "    \"\"\"\n",
        "    return (vmax - vmin)*np.random.rand(n) + vmin\n",
        "\n",
        "fig = plt.figure()\n",
        "ax = fig.add_subplot(projection='3d')\n",
        "\n",
        "n = 500\n",
        "\n",
        "# For each set of style and range settings, plot n random points in the box\n",
        "# defined by x in [23, 32], y in [0, 100], z in [zlow, zhigh].\n",
        "for m, zlow, zhigh in [('o', -50, -25), ('^', -30, -5)]:\n",
        "    xs = randrange(n, 23, 32)\n",
        "    ys = randrange(n, 0, 100)\n",
        "    zs = randrange(n, zlow, zhigh)\n",
        "    ax.scatter(xs, ys, zs, marker=m)\n",
        "\n",
        "ax.set_xlabel('X Label')\n",
        "ax.set_ylabel('Y Label')\n",
        "ax.set_zlabel('Z Label')\n",
        "\n",
        "plt.show()"
      ]
    },
    {
      "cell_type": "code",
      "source": [
        "X=np.array([xs,ys,zs])\n",
        "X=X.T"
      ],
      "metadata": {
        "id": "n1gTrbt8MKfp"
      },
      "execution_count": null,
      "outputs": []
    },
    {
      "cell_type": "code",
      "source": [
        "X.shape"
      ],
      "metadata": {
        "id": "oX6aSwAxMQdy"
      },
      "execution_count": null,
      "outputs": []
    },
    {
      "cell_type": "code",
      "source": [
        "from sklearn.cluster import KMeans\n",
        "import numpy as np\n",
        "kmeans = KMeans(n_clusters=5, random_state=0).fit(X)\n",
        "kmeans.labels_\n",
        "\n",
        "\n",
        "kmeans.cluster_centers_.shape"
      ],
      "metadata": {
        "id": "X99tWOVTL_tV"
      },
      "execution_count": null,
      "outputs": []
    },
    {
      "cell_type": "code",
      "source": [
        "import matplotlib.pyplot as plt\n",
        "import numpy as np\n",
        "\n",
        "\n",
        "fig = plt.figure()\n",
        "ax = fig.add_subplot(projection='3d')\n",
        "ax.scatter(xs, ys, zs, s=1, marker='o')\n",
        "\n",
        "ax.scatter(kmeans.cluster_centers_[0:len(X),0],kmeans.cluster_centers_[0:len(X),1],kmeans.cluster_centers_[0:len(X),2],s=10,marker='o')\n",
        "ax.view_init(-140, 60)\n",
        "\n",
        "plt.show()"
      ],
      "metadata": {
        "id": "cAavZatJMdna"
      },
      "execution_count": null,
      "outputs": []
    },
    {
      "cell_type": "code",
      "source": [
        "from mpl_toolkits.mplot3d import Axes3D\n",
        "ax = fig.add_subplot(projection='3d')\n",
        "ax.scatter(xs, ys, zs, marker='o')\n",
        "ax.scatter(kmeans.cluster_centers_[0:len(X),0],kmeans.cluster_centers_[0:len(X),1],kmeans.cluster_centers_[0:len(X),2])\n",
        "for ii in range(0,360,1):\n",
        "    ax.view_init(elev=10., azim=ii)\n",
        "    plt.savefig(\"movie%d.png\" % ii)"
      ],
      "metadata": {
        "id": "q31XW6uTNEjK"
      },
      "execution_count": null,
      "outputs": []
    },
    {
      "cell_type": "code",
      "source": [
        "from sklearn.cluster import Birch\n",
        "\n",
        "brc = Birch(n_clusters=5)\n",
        "brc.fit(X)\n"
      ],
      "metadata": {
        "id": "RrhXGmFjNzYq"
      },
      "execution_count": null,
      "outputs": []
    },
    {
      "cell_type": "code",
      "source": [
        "X.shape"
      ],
      "metadata": {
        "id": "vWIzZUewO1_C"
      },
      "execution_count": null,
      "outputs": []
    },
    {
      "cell_type": "code",
      "source": [
        "pred = brc.predict(X)\n",
        "  \n",
        "# Predict the same data\n",
        "pred = brc.predict(X)\n",
        "fig = plt.figure()\n",
        "ax = fig.add_subplot(projection='3d')\n",
        "ax = fig.add_subplot(projection='3d')\n",
        "# Creating a scatter plot\n",
        "ax.scatter(X[:, 0], X[:, 1], X[:, 2], c = pred, cmap = 'rainbow', alpha = 0.7, edgecolors = 'b')\n",
        "plt.show()\n"
      ],
      "metadata": {
        "id": "ht02c-F4OvRL"
      },
      "execution_count": null,
      "outputs": []
    },
    {
      "cell_type": "markdown",
      "source": [
        "# **3-D clustering of iris dataset**"
      ],
      "metadata": {
        "id": "-fbjxeHAlrja"
      }
    },
    {
      "cell_type": "code",
      "source": [
        "\n",
        "import matplotlib.pyplot as plt\n",
        "\n",
        "# unused but required import for doing 3d projections with matplotlib < 3.2\n",
        "import mpl_toolkits.mplot3d  # noqa: F401\n",
        "\n",
        "from sklearn import datasets\n",
        "from sklearn.decomposition import PCA\n",
        "\n",
        "# import some data to play with\n",
        "iris = datasets.load_iris()\n",
        "X = iris.data[:, :3]  # we only take the first two features.\n",
        "y = iris.target"
      ],
      "metadata": {
        "id": "0qfhMfUPleST"
      },
      "execution_count": null,
      "outputs": []
    },
    {
      "cell_type": "code",
      "source": [
        "from sklearn.cluster import Birch\n",
        "\n",
        "brc = Birch(n_clusters=5)\n",
        "brc.fit(X)\n"
      ],
      "metadata": {
        "id": "OQfkhOynlg1M"
      },
      "execution_count": null,
      "outputs": []
    },
    {
      "cell_type": "code",
      "source": [
        "X.shape"
      ],
      "metadata": {
        "id": "E_vYQ8tjlmLi"
      },
      "execution_count": null,
      "outputs": []
    },
    {
      "cell_type": "code",
      "source": [
        "pred = brc.predict(X)\n",
        "  \n",
        "# Predict the same data\n",
        "pred = brc.predict(X)\n",
        "fig = plt.figure()\n",
        "ax = fig.add_subplot(projection='3d')\n",
        "ax = fig.add_subplot(projection='3d')\n",
        "# Creating a scatter plot\n",
        "ax.scatter(X[:, 0], X[:, 1], X[:, 2], c = pred, cmap = 'rainbow', alpha = 0.7, edgecolors = 'b')\n",
        "plt.show()\n"
      ],
      "metadata": {
        "id": "_brkYoPsljVD"
      },
      "execution_count": null,
      "outputs": []
    },
    {
      "cell_type": "markdown",
      "source": [
        "# **The concept of clustering using birch can be extended to breast dataset as well**"
      ],
      "metadata": {
        "id": "SgImElBZl3qz"
      }
    },
    {
      "cell_type": "markdown",
      "source": [
        "First we upload the data set"
      ],
      "metadata": {
        "id": "lMGOr0L7l8pj"
      }
    },
    {
      "cell_type": "code",
      "source": [
        "from google.colab import files\n",
        "\n",
        "uploaded = files.upload()"
      ],
      "metadata": {
        "id": "HjBQozMKl-xD"
      },
      "execution_count": null,
      "outputs": []
    },
    {
      "cell_type": "code",
      "source": [
        "import pandas as pd\n",
        "\n",
        "df = pd.read_csv('Breatdataset.csv')\n",
        "\n"
      ],
      "metadata": {
        "id": "OXblZjfJmJEa"
      },
      "execution_count": null,
      "outputs": []
    },
    {
      "cell_type": "code",
      "source": [
        "df"
      ],
      "metadata": {
        "id": "55xd1034mTWN"
      },
      "execution_count": null,
      "outputs": []
    },
    {
      "cell_type": "code",
      "source": [
        "\n",
        "import matplotlib.pyplot as plt\n",
        "\n",
        "# unused but required import for doing 3d projections with matplotlib < 3.2\n",
        "import mpl_toolkits.mplot3d  # noqa: F401\n",
        "\n",
        "from sklearn import datasets\n",
        "from sklearn.decomposition import PCA\n",
        "\n",
        "# import some data to play with\n",
        "iris = datasets.load_iris()\n",
        "X = df[[\"radius_mean\",\"texture_mean\",\"perimeter_mean\"]]  # we only take the first two features.\n"
      ],
      "metadata": {
        "id": "zNW2piW_mPB7"
      },
      "execution_count": null,
      "outputs": []
    },
    {
      "cell_type": "code",
      "source": [
        "from sklearn.cluster import Birch\n",
        "\n",
        "brc = Birch(n_clusters=2)\n",
        "brc.fit(X)"
      ],
      "metadata": {
        "id": "DxHJdBlimfPa"
      },
      "execution_count": null,
      "outputs": []
    },
    {
      "cell_type": "code",
      "source": [
        "X=X.to_numpy()"
      ],
      "metadata": {
        "id": "LWMd9V8lmllN"
      },
      "execution_count": null,
      "outputs": []
    },
    {
      "cell_type": "code",
      "source": [
        "pred = brc.predict(X)\n",
        "  \n",
        "# Predict the same data\n",
        "pred = brc.predict(X)\n",
        "fig = plt.figure()\n",
        "ax = fig.add_subplot(projection='3d')\n",
        "ax = fig.add_subplot(projection='3d')\n",
        "# Creating a scatter plot\n",
        "ax.scatter(X[:, 0], X[:, 1], X[:, 2], c = pred, cmap = 'rainbow', alpha = 0.7, edgecolors = 'b')\n",
        "\n",
        "ax.view_init(0, 120)\n",
        "plt.show()"
      ],
      "metadata": {
        "id": "7nqSWr2omi76"
      },
      "execution_count": null,
      "outputs": []
    }
  ]
}